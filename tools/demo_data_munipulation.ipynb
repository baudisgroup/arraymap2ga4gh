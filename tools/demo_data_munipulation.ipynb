{
 "cells": [
  {
   "cell_type": "markdown",
   "metadata": {
    "deletable": true,
    "editable": true
   },
   "source": [
    "# initialization"
   ]
  },
  {
   "cell_type": "code",
   "execution_count": 9,
   "metadata": {
    "collapsed": true,
    "deletable": true,
    "editable": true
   },
   "outputs": [],
   "source": [
    "from pymongo import MongoClient\n",
    "client = MongoClient()\n",
    "db = client['arraymap_ga4gh']"
   ]
  },
  {
   "cell_type": "markdown",
   "metadata": {
    "deletable": true,
    "editable": true
   },
   "source": [
    "# retrieving all biosample ids for a given ontology"
   ]
  },
  {
   "cell_type": "code",
   "execution_count": 10,
   "metadata": {
    "collapsed": false,
    "deletable": true,
    "editable": true,
    "scrolled": true
   },
   "outputs": [
    {
     "name": "stdout",
     "output_type": "stream",
     "text": [
      "PGX_AM_BS_GSM514646\n",
      "PGX_AM_BS_GSM510744\n",
      "PGX_AM_BS_GSM303729\n",
      "PGX_AM_BS_GSM481747\n",
      "PGX_AM_BS_TCGA-AR-A0TX-01A-11D-A087-01\n",
      "PGX_AM_BS_GSM182856\n",
      "PGX_AM_BS_GSM511255\n",
      "PGX_AM_BS_GSM783942\n",
      "PGX_AM_BS_GSM255268\n",
      "PGX_AM_BS_GSM481821\n"
     ]
    }
   ],
   "source": [
    "biosampleIds = db.biosamples.distinct(\"id\", {\"bio_characteristics.ontology_terms.term_id\" : \"NCIT:C4017\"})\n",
    "for i in range(10):\n",
    "    print(biosampleIds[i])"
   ]
  },
  {
   "cell_type": "markdown",
   "metadata": {
    "deletable": true,
    "editable": true
   },
   "source": [
    "# biosample ids are used to get callset ids"
   ]
  },
  {
   "cell_type": "code",
   "execution_count": 11,
   "metadata": {
    "collapsed": false,
    "deletable": true,
    "editable": true,
    "scrolled": true
   },
   "outputs": [
    {
     "name": "stdout",
     "output_type": "stream",
     "text": [
      "PGX_AM_CS_GSM231342\n",
      "PGX_AM_CS_GSM321941\n",
      "PGX_AM_CS_GSM481374\n",
      "PGX_AM_CS_TCGA-A1-A0SK-01A-12D-A087-01\n",
      "PGX_AM_CS_GSM217530\n",
      "PGX_AM_CS_GSM510699\n",
      "PGX_AM_CS_GSM149983\n",
      "PGX_AM_CS_TCGA-BH-A0EA-01A-11D-A111-01\n",
      "PGX_AM_CS_GSM933800\n",
      "PGX_AM_CS_GSM303756\n"
     ]
    }
   ],
   "source": [
    "callsetIds = db.callsets.distinct(\"id\", { 'biosample_id' : { '$in' : biosampleIds } })\n",
    "for i in range(10):\n",
    "    print(callsetIds[i])"
   ]
  },
  {
   "cell_type": "markdown",
   "metadata": {
    "deletable": true,
    "editable": true
   },
   "source": [
    "# variant query\n"
   ]
  },
  {
   "cell_type": "code",
   "execution_count": 12,
   "metadata": {
    "collapsed": false,
    "deletable": true,
    "editable": true
   },
   "outputs": [
    {
     "name": "stdout",
     "output_type": "stream",
     "text": [
      "PGX_AM_V_1043499\n",
      "PGX_AM_V_620100\n",
      "PGX_AM_V_1962374\n",
      "PGX_AM_V_1107284\n",
      "PGX_AM_V_1253061\n",
      "PGX_AM_V_2258777\n",
      "PGX_AM_V_1419401\n",
      "PGX_AM_V_1270893\n",
      "PGX_AM_V_1880600\n",
      "PGX_AM_V_1435065\n"
     ]
    }
   ],
   "source": [
    "variantIds = db.variants.distinct(\"id\", \n",
    "\t{ '$and' : [\n",
    "\t\t\t{ 'reference_name': '1'},\n",
    "\t\t\t{ 'start'\t:\t{ '$gte': 10000 }},\n",
    "\t\t\t{ 'end' \t:\t{ '$lte': 100000 }},\n",
    "\t\t],\n",
    "\t}\n",
    ")\n",
    "for i in range(10):\n",
    "    print(variantIds[i])"
   ]
  },
  {
   "cell_type": "markdown",
   "metadata": {
    "deletable": true,
    "editable": true
   },
   "source": [
    "# Using variantIds to retrieve the callset ids\n",
    "\n",
    " These can then be intersected with the callsetIds from a metadata query like above."
   ]
  },
  {
   "cell_type": "code",
   "execution_count": 13,
   "metadata": {
    "collapsed": false,
    "deletable": true,
    "editable": true,
    "scrolled": true
   },
   "outputs": [
    {
     "name": "stdout",
     "output_type": "stream",
     "text": [
      "PGX_AM_CS_GSM231342\n",
      "PGX_AM_CS_GSM321941\n",
      "PGX_AM_CS_GSM481374\n",
      "PGX_AM_CS_TCGA-A1-A0SK-01A-12D-A087-01\n",
      "PGX_AM_CS_GSM217530\n",
      "PGX_AM_CS_GSM510699\n",
      "PGX_AM_CS_GSM149983\n",
      "PGX_AM_CS_TCGA-BH-A0EA-01A-11D-A111-01\n",
      "PGX_AM_CS_GSM933800\n",
      "PGX_AM_CS_GSM303756\n"
     ]
    }
   ],
   "source": [
    "callsetIds_from_variants = db.variants.distinct(\"calls.call_set_id\", { 'id' : { '$in' : variantIds } })\n",
    "for i in range(10):\n",
    "    print(callsetIds[i])"
   ]
  }
 ],
 "metadata": {
  "kernelspec": {
   "display_name": "Python 3",
   "language": "python",
   "name": "python3"
  },
  "language_info": {
   "codemirror_mode": {
    "name": "ipython",
    "version": 3
   },
   "file_extension": ".py",
   "mimetype": "text/x-python",
   "name": "python",
   "nbconvert_exporter": "python",
   "pygments_lexer": "ipython3",
   "version": "3.5.1"
  }
 },
 "nbformat": 4,
 "nbformat_minor": 2
}
