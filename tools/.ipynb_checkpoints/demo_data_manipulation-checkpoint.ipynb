{
 "cells": [
  {
   "cell_type": "markdown",
   "metadata": {
    "deletable": true,
    "editable": true
   },
   "source": [
    "# initialization"
   ]
  },
  {
   "cell_type": "code",
   "execution_count": 1,
   "metadata": {
    "collapsed": true,
    "deletable": true,
    "editable": true
   },
   "outputs": [],
   "source": [
    "from pymongo import MongoClient\n",
    "client = MongoClient()\n",
    "db = client['test']"
   ]
  },
  {
   "cell_type": "markdown",
   "metadata": {
    "deletable": true,
    "editable": true
   },
   "source": [
    "# retrieving all biosample ids for a given ontology"
   ]
  },
  {
   "cell_type": "code",
   "execution_count": 2,
   "metadata": {
    "collapsed": false,
    "deletable": true,
    "editable": true,
    "scrolled": true
   },
   "outputs": [
    {
     "name": "stdout",
     "output_type": "stream",
     "text": [
      "PGX_AM_BS_GSM217472\n",
      "PGX_AM_BS_BrCa-fri-S0052\n",
      "PGX_AM_BS_BrCa-fri-S0081\n",
      "PGX_AM_BS_GSM217554\n",
      "PGX_AM_BS_GSM217530\n",
      "PGX_AM_BS_GSM217450\n",
      "PGX_AM_BS_GSM217411\n",
      "PGX_AM_BS_GSM217489\n",
      "PGX_AM_BS_GSM217434\n",
      "PGX_AM_BS_BrCa-fri-S1522\n"
     ]
    }
   ],
   "source": [
    "biosampleIds = db.biosamples.distinct(\"id\", {\"bio_characteristics.ontology_terms.term_id\" : \"NCIT:C4017\"})\n",
    "for i in range(10):\n",
    "    print(biosampleIds[i])"
   ]
  },
  {
   "cell_type": "markdown",
   "metadata": {
    "deletable": true,
    "editable": true
   },
   "source": [
    "# biosample ids are used to get callset ids"
   ]
  },
  {
   "cell_type": "code",
   "execution_count": 3,
   "metadata": {
    "collapsed": false,
    "deletable": true,
    "editable": true,
    "scrolled": true
   },
   "outputs": [
    {
     "name": "stdout",
     "output_type": "stream",
     "text": [
      "PGX_AM_CS_GSM217530\n",
      "PGX_AM_CS_GSM217442\n",
      "PGX_AM_CS_BrCa-fri-S1504\n",
      "PGX_AM_CS_GSM217419\n",
      "PGX_AM_CS_GSM217411\n",
      "PGX_AM_CS_GSM217497\n",
      "PGX_AM_CS_GSM217479\n",
      "PGX_AM_CS_GSM217436\n",
      "PGX_AM_CS_BrCa-fri-S1524\n",
      "PGX_AM_CS_BrCa-fri-S0257\n"
     ]
    }
   ],
   "source": [
    "callsetIds = db.callsets.distinct(\"id\", { 'biosample_id' : { '$in' : biosampleIds } })\n",
    "for i in range(10):\n",
    "    print(callsetIds[i])"
   ]
  },
  {
   "cell_type": "markdown",
   "metadata": {
    "deletable": true,
    "editable": true
   },
   "source": [
    "# variant query\n"
   ]
  },
  {
   "cell_type": "code",
   "execution_count": 4,
   "metadata": {
    "collapsed": false,
    "deletable": true,
    "editable": true
   },
   "outputs": [
    {
     "name": "stdout",
     "output_type": "stream",
     "text": [
      "PGX_AM_V_109994\n",
      "PGX_AM_V_109884\n",
      "PGX_AM_V_111075\n",
      "PGX_AM_V_110476\n",
      "PGX_AM_V_110050\n",
      "PGX_AM_V_110391\n",
      "PGX_AM_V_109609\n",
      "PGX_AM_V_9681\n",
      "PGX_AM_V_109161\n",
      "PGX_AM_V_110906\n"
     ]
    }
   ],
   "source": [
    "variantIds = db.variants.distinct(\"id\", \n",
    "\t{ '$and' : [\n",
    "\t\t\t{ 'reference_name': '1'},\n",
    "\t\t\t{ 'start'\t:\t{ '$gte': 10000 }},\n",
    "\t\t\t{ 'end' \t:\t{ '$lte': 10000000 }},\n",
    "\t\t],\n",
    "\t}\n",
    ")\n",
    "for i in range(10):\n",
    "    print(variantIds[i])"
   ]
  },
  {
   "cell_type": "markdown",
   "metadata": {
    "deletable": true,
    "editable": true
   },
   "source": [
    "# Using variantIds to retrieve the callset ids\n",
    "\n",
    " These can then be intersected with the callsetIds from a metadata query like above."
   ]
  },
  {
   "cell_type": "code",
   "execution_count": 5,
   "metadata": {
    "collapsed": false,
    "deletable": true,
    "editable": true,
    "scrolled": true
   },
   "outputs": [
    {
     "name": "stdout",
     "output_type": "stream",
     "text": [
      "PGX_AM_CS_GSM217530\n",
      "PGX_AM_CS_GSM217442\n",
      "PGX_AM_CS_BrCa-fri-S1504\n",
      "PGX_AM_CS_GSM217419\n",
      "PGX_AM_CS_GSM217411\n",
      "PGX_AM_CS_GSM217497\n",
      "PGX_AM_CS_GSM217479\n",
      "PGX_AM_CS_GSM217436\n",
      "PGX_AM_CS_BrCa-fri-S1524\n",
      "PGX_AM_CS_BrCa-fri-S0257\n"
     ]
    }
   ],
   "source": [
    "callsetIds_from_variants = db.variants.distinct(\"calls.call_set_id\", { 'id' : { '$in' : variantIds } })\n",
    "for i in range(10):\n",
    "    print(callsetIds[i])"
   ]
  }
 ],
 "metadata": {
  "kernelspec": {
   "display_name": "Python 3",
   "language": "python",
   "name": "python3"
  },
  "language_info": {
   "codemirror_mode": {
    "name": "ipython",
    "version": 3
   },
   "file_extension": ".py",
   "mimetype": "text/x-python",
   "name": "python",
   "nbconvert_exporter": "python",
   "pygments_lexer": "ipython3",
   "version": "3.5.1"
  }
 },
 "nbformat": 4,
 "nbformat_minor": 2
}
